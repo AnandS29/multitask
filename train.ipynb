{
 "cells": [
  {
   "cell_type": "code",
   "execution_count": 18,
   "id": "7a250ace",
   "metadata": {},
   "outputs": [],
   "source": [
    "import gym\n",
    "import numpy as np\n",
    "\n",
    "from stable_baselines3 import PPO\n",
    "from stable_baselines3.common.env_util import make_vec_env\n",
    "\n",
    "import torch\n",
    "from torch import nn\n",
    "from torch.utils.data import TensorDataset, DataLoader\n",
    "\n",
    "import matplotlib.pyplot as plt\n",
    "\n",
    "from mlp import *\n",
    "from feedback_env import *\n",
    "from learning import *"
   ]
  },
  {
   "cell_type": "code",
   "execution_count": 19,
   "id": "d56e0712",
   "metadata": {},
   "outputs": [],
   "source": [
    "# Setup configs for reward and policy learning\n",
    "\n",
    "reward_cfg = {\n",
    "    'n_sample': 100,\n",
    "    'n_epoch': 10,\n",
    "    'lr': 0.9,\n",
    "    'verbose': False,\n",
    "    'print_freq': 500,\n",
    "    'batch_size': 64\n",
    "}\n",
    "\n",
    "policy_cfg = {\n",
    "    'timesteps': 100,\n",
    "    'verbose': True,\n",
    "    'algo': 'ppo' # not used atm\n",
    "}"
   ]
  },
  {
   "cell_type": "code",
   "execution_count": 20,
   "id": "ff671a44",
   "metadata": {},
   "outputs": [
    {
     "name": "stdout",
     "output_type": "stream",
     "text": [
      "Iteration 0\n",
      "Learning with PPO\n",
      "Using cpu device\n",
      "---------------------------------\n",
      "| rollout/           |          |\n",
      "|    ep_len_mean     | 1        |\n",
      "|    ep_rew_mean     | -0.0226  |\n",
      "| time/              |          |\n",
      "|    fps             | 2053     |\n",
      "|    iterations      | 1        |\n",
      "|    time_elapsed    | 0        |\n",
      "|    total_timesteps | 2048     |\n",
      "---------------------------------\n",
      "Iteration 1\n"
     ]
    },
    {
     "name": "stderr",
     "output_type": "stream",
     "text": [
      "/Users/anandsranjan/miniconda3/envs/games_env/lib/python3.9/site-packages/gym/envs/registration.py:216: UserWarning: \u001b[33mWARN: Overriding environment FeedbackEnv-v0\u001b[0m\n",
      "  logger.warn(\"Overriding environment {}\".format(id))\n"
     ]
    },
    {
     "name": "stdout",
     "output_type": "stream",
     "text": [
      "Learning with PPO\n",
      "Using cpu device\n",
      "---------------------------------\n",
      "| rollout/           |          |\n",
      "|    ep_len_mean     | 1        |\n",
      "|    ep_rew_mean     | -0.389   |\n",
      "| time/              |          |\n",
      "|    fps             | 2085     |\n",
      "|    iterations      | 1        |\n",
      "|    time_elapsed    | 0        |\n",
      "|    total_timesteps | 2048     |\n",
      "---------------------------------\n",
      "Iteration 2\n"
     ]
    }
   ],
   "source": [
    "## Feedback loop\n",
    "\n",
    "iterations = 10\n",
    "samples = {}\n",
    "\n",
    "# Create comparison function\n",
    "f = lambda x: 0\n",
    "g = lambda x: 0\n",
    "comparison_fn = create_comparison_fn(f, g, sigma_f=0, sigma_g=0)\n",
    "\n",
    "# Initialize random sampler\n",
    "sample = lambda n: (None, [np.random.uniform(-10, 10, size=(2,)) for _ in range(n)])\n",
    "\n",
    "for i in range(iterations):\n",
    "    print(\"Iteration\", i)\n",
    "    # Learn reward function from samples and feedback from comparison function\n",
    "    reward_fn = learn_reward(sample, comparison_fn, reward_cfg=reward_cfg)\n",
    "    \n",
    "    # Train policy on reward function and return sampler\n",
    "    sample = train_policy(reward_fn, policy_cfg=policy_cfg)\n",
    "\n",
    "    # Store samplers\n",
    "    samples[i] = sample"
   ]
  },
  {
   "cell_type": "code",
   "execution_count": null,
   "id": "f0dd00e1",
   "metadata": {},
   "outputs": [
    {
     "data": {
      "image/png": "[encoded data removed]",
      "text/plain": [
       "<Figure size 144x144 with 1 Axes>"
      ]
     },
     "metadata": {
      "needs_background": "light"
     },
     "output_type": "display_data"
    },
    {
     "name": "stdout",
     "output_type": "stream",
     "text": [
      "[1.291707  1.0975428] [0.5240993 0.6819313]\n"
     ]
    },
    {
     "data": {
      "image/png": "[encoded data removed]",
      "text/plain": [
       "<Figure size 144x144 with 1 Axes>"
      ]
     },
     "metadata": {
      "needs_background": "light"
     },
     "output_type": "display_data"
    },
    {
     "name": "stdout",
     "output_type": "stream",
     "text": [
      "[ 1.7136568 -1.889941 ] [0.58904123 0.47593126]\n"
     ]
    },
    {
     "data": {
      "image/png": "[encoded data removed]",
      "text/plain": [
       "<Figure size 144x144 with 1 Axes>"
      ]
     },
     "metadata": {
      "needs_background": "light"
     },
     "output_type": "display_data"
    },
    {
     "name": "stdout",
     "output_type": "stream",
     "text": [
      "[ 4.304725  -5.3086705] [1.0352997 0.8074081]\n"
     ]
    },
    {
     "data": {
      "image/png": "[encoded data removed]",
      "text/plain": [
       "<Figure size 144x144 with 1 Axes>"
      ]
     },
     "metadata": {
      "needs_background": "light"
     },
     "output_type": "display_data"
    },
    {
     "name": "stdout",
     "output_type": "stream",
     "text": [
      "[ 4.1292644 -3.233093 ] [0.5469879  0.55600905]\n"
     ]
    },
    {
     "data": {
      "image/png": "[encoded data removed]",
      "text/plain": [
       "<Figure size 144x144 with 1 Axes>"
      ]
     },
     "metadata": {
      "needs_background": "light"
     },
     "output_type": "display_data"
    },
    {
     "name": "stdout",
     "output_type": "stream",
     "text": [
      "[-0.58613944  4.9121003 ] [0.5377627 0.6381621]\n"
     ]
    },
    {
     "data": {
      "image/png": "[encoded data removed]",
      "text/plain": [
       "<Figure size 144x144 with 1 Axes>"
      ]
     },
     "metadata": {
      "needs_background": "light"
     },
     "output_type": "display_data"
    },
    {
     "name": "stdout",
     "output_type": "stream",
     "text": [
      "[0.408497  4.9056873] [1.0186524 0.3797343]\n"
     ]
    },
    {
     "data": {
      "image/png": "[encoded data removed]",
      "text/plain": [
       "<Figure size 144x144 with 1 Axes>"
      ]
     },
     "metadata": {
      "needs_background": "light"
     },
     "output_type": "display_data"
    },
    {
     "name": "stdout",
     "output_type": "stream",
     "text": [
      "[-5.7938952 -1.8310586] [0.48038182 1.0429003 ]\n"
     ]
    },
    {
     "data": {
      "image/png": "[encoded data removed]",
      "text/plain": [
       "<Figure size 144x144 with 1 Axes>"
      ]
     },
     "metadata": {
      "needs_background": "light"
     },
     "output_type": "display_data"
    },
    {
     "name": "stdout",
     "output_type": "stream",
     "text": [
      "[-1.2020772  5.6103888] [1.3632684 0.6141393]\n"
     ]
    },
    {
     "data": {
      "image/png": "[encoded data removed]",
      "text/plain": [
       "<Figure size 144x144 with 1 Axes>"
      ]
     },
     "metadata": {
      "needs_background": "light"
     },
     "output_type": "display_data"
    },
    {
     "name": "stdout",
     "output_type": "stream",
     "text": [
      "[-0.60728437  1.0014008 ] [0.2967825  0.54853094]\n"
     ]
    },
    {
     "data": {
      "image/png": "[encoded data removed]",
      "text/plain": [
       "<Figure size 144x144 with 1 Axes>"
      ]
     },
     "metadata": {
      "needs_background": "light"
     },
     "output_type": "display_data"
    },
    {
     "name": "stdout",
     "output_type": "stream",
     "text": [
      "[-2.105294   -0.90048003] [0.42539528 1.4284184 ]\n"
     ]
    }
   ],
   "source": [
    "for i in range(iterations):\n",
    "    plot_sampler(samples[i], title=str(i))"
   ]
  },
  {
   "cell_type": "code",
   "execution_count": null,
   "id": "22502da9",
   "metadata": {},
   "outputs": [],
   "source": []
  }
 ],
 "metadata": {
  "interpreter": {
   "hash": "fa9be0812ba9cf2ffc7e7d01ee4f74f25aa172a48e3d2ca964b0b66e41bf47e0"
  },
  "kernelspec": {
   "display_name": "Python 3.8.12 ('rllib')",
   "language": "python",
   "name": "python3"
  },
  "language_info": {
   "codemirror_mode": {
    "name": "ipython",
    "version": 3
   },
   "file_extension": ".py",
   "mimetype": "text/x-python",
   "name": "python",
   "nbconvert_exporter": "python",
   "pygments_lexer": "ipython3",
   "version": "3.9.10"
  }
 },
 "nbformat": 4,
 "nbformat_minor": 5
}
