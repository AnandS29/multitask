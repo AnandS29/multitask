{
 "cells": [
  {
   "cell_type": "code",
   "execution_count": 2,
   "metadata": {},
   "outputs": [],
   "source": [
    "import gym\n",
    "import numpy as np\n",
    "\n",
    "from stable_baselines3 import PPO\n",
    "from stable_baselines3.common.env_util import make_vec_env\n",
    "\n",
    "import torch\n",
    "from torch import nn\n",
    "from torch.utils.data import TensorDataset, DataLoader\n",
    "\n",
    "import matplotlib.pyplot as plt\n",
    "\n",
    "from mlp import *\n",
    "from feedback_env import *\n",
    "from learning import *"
   ]
  },
  {
   "cell_type": "code",
   "execution_count": 3,
   "metadata": {},
   "outputs": [],
   "source": [
    "policy_cfg = {\n",
    "    'timesteps': 100000,\n",
    "    'verbose': False,\n",
    "    'algo': 'ppo', # not used atm\n",
    "    'log': 'ppo-feedback'\n",
    "}"
   ]
  },
  {
   "cell_type": "code",
   "execution_count": 4,
   "metadata": {},
   "outputs": [
    {
     "name": "stdout",
     "output_type": "stream",
     "text": [
      "Learning with PPO\n"
     ]
    }
   ],
   "source": [
    "# Create reward function\n",
    "f = lambda x: -(x[0]-1)**2\n",
    "g = lambda x: -(x[1]-0)**2\n",
    "reward_fn = create_reward_fn(f, g, sigma_f=0.1, sigma_g=3.0)\n",
    "\n",
    "# Train policy on reward function and return sampler\n",
    "sample = train_policy(reward_fn, policy_cfg=policy_cfg)\n",
    "    \n",
    "    "
   ]
  },
  {
   "cell_type": "code",
   "execution_count": 5,
   "metadata": {},
   "outputs": [
    {
     "data": {
      "image/png": "[encoded data removed]",
      "text/plain": [
       "<Figure size 144x144 with 1 Axes>"
      ]
     },
     "metadata": {
      "needs_background": "light"
     },
     "output_type": "display_data"
    },
    {
     "name": "stdout",
     "output_type": "stream",
     "text": [
      "[ 1.1166098 -0.0116798] [0.18942998 0.2161389 ]\n"
     ]
    }
   ],
   "source": [
    "plot_sampler(sample, \"test policy\", n=500)"
   ]
  },
  {
   "cell_type": "code",
   "execution_count": null,
   "metadata": {},
   "outputs": [],
   "source": []
  }
 ],
 "metadata": {
  "interpreter": {
   "hash": "2a91ce111bf7d6151ef58baa2bb212eee2faec069425c365316915ac83c502c6"
  },
  "kernelspec": {
   "display_name": "Python 3.9.10 ('games_env')",
   "language": "python",
   "name": "python3"
  },
  "language_info": {
   "codemirror_mode": {
    "name": "ipython",
    "version": 3
   },
   "file_extension": ".py",
   "mimetype": "text/x-python",
   "name": "python",
   "nbconvert_exporter": "python",
   "pygments_lexer": "ipython3",
   "version": "3.9.10"
  },
  "orig_nbformat": 4
 },
 "nbformat": 4,
 "nbformat_minor": 2
}
